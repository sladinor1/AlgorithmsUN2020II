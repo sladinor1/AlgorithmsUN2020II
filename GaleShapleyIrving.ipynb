{
  "nbformat": 4,
  "nbformat_minor": 0,
  "metadata": {
    "colab": {
      "name": "GaleShapleyIrving.ipynb",
      "provenance": [],
      "collapsed_sections": []
    },
    "kernelspec": {
      "name": "python3",
      "display_name": "Python 3"
    }
  },
  "cells": [
    {
      "cell_type": "markdown",
      "metadata": {
        "id": "yxtlz1a7y6rc"
      },
      "source": [
        "# 1) Find the best and worst cases for the Gale-Shapley and Irving ( An Efficient Algorithm for the “Stable Roommates” Problem) Algorithms and run in Colab these algorithms for those cases for n=4 and 40."
      ]
    },
    {
      "cell_type": "markdown",
      "metadata": {
        "id": "VSepTtXHTWX3"
      },
      "source": [
        "Gale-Shapley "
      ]
    },
    {
      "cell_type": "code",
      "metadata": {
        "id": "8iaar3Iqg0Kn"
      },
      "source": [
        "# Number of Men or Women \n",
        "N = 0\n",
        "  \n",
        "# This function returns true if  \n",
        "# woman 'w' prefers man 'm1' over man 'm' \n",
        "def wPrefersM1OverM(prefer, w, m, m1, n): \n",
        "      \n",
        "    N = n  \n",
        "    # Check if w prefers m over her  \n",
        "    # current engagment m1 \n",
        "    for i in range(N): \n",
        "          \n",
        "        # If m1 comes before m in lisr of w,  \n",
        "        # then w prefers her current engagement, \n",
        "        # don't do anything \n",
        "        if (prefer[w][i] == m1): \n",
        "            return True\n",
        "  \n",
        "        # If m cmes before m1 in w's list,  \n",
        "        # then free her current engagement  \n",
        "        # and engage her with m \n",
        "        if (prefer[w][i] == m): \n",
        "            return False\n",
        "            \n",
        "# Prints stable matching for N boys and N girls.  \n",
        "# Boys are numbered as 0 to N-1.  \n",
        "# Girls are numbereed as N to 2N-1. \n",
        "def stableMarriage(prefer, n): \n",
        "      \n",
        "    # Stores partner of women. This is our output  \n",
        "    # array that stores paing information.  \n",
        "    # The value of wPartner[i] indicates the partner  \n",
        "    # assigned to woman N+i. Note that the woman numbers  \n",
        "    # between N and 2*N-1. The value -1 indicates  \n",
        "    # that (N+i)'th woman is free \n",
        "    N = n\n",
        "    wPartner = [-1 for i in range(N)] \n",
        "  \n",
        "    # An array to store availability of men.  \n",
        "    # If mFree[i] is false, then man 'i' is free, \n",
        "    # otherwise engaged. \n",
        "    mFree = [False for i in range(N)] \n",
        "  \n",
        "    freeCount = N \n",
        "    count = 0\n",
        "    # While there are free men \n",
        "    while (freeCount > 0): \n",
        "          \n",
        "        count += 1  \n",
        "        # Pick the first free man (we could pick any) \n",
        "        m = 0\n",
        "        while (m < N): \n",
        "            if (mFree[m] == False): \n",
        "                break\n",
        "            m += 1\n",
        "  \n",
        "        # One by one go to all women according to  \n",
        "        # m's preferences. Here m is the picked free man \n",
        "        i = 0\n",
        "        while i < N and mFree[m] == False: \n",
        "            w = prefer[m][i] \n",
        "  \n",
        "            # The woman of preference is free,  \n",
        "            # w and m become partners (Note that  \n",
        "            # the partnership maybe changed later).  \n",
        "            # So we can say they are engaged not married \n",
        "            if (wPartner[w - N] == -1): \n",
        "                wPartner[w - N] = m \n",
        "                mFree[m] = True\n",
        "                freeCount -= 1\n",
        "  \n",
        "            else:  \n",
        "                  \n",
        "                # If w is not free \n",
        "                # Find current engagement of w \n",
        "                m1 = wPartner[w - N] \n",
        "  \n",
        "                # If w prefers m over her current engagement m1, \n",
        "                # then break the engagement between w and m1 and \n",
        "                # engage m with w. \n",
        "                if (wPrefersM1OverM(prefer, w, m, m1, n) == False): \n",
        "                    wPartner[w - N] = m \n",
        "                    mFree[m] = True\n",
        "                    mFree[m1] = False\n",
        "            i += 1\n",
        "  \n",
        "            # End of Else \n",
        "        # End of the for loop that goes  \n",
        "        # to all women in m's list \n",
        "    # End of main while loop \n",
        "       \n",
        "    # Prthe solution \n",
        "    print(\"Woman \", \" Man\") \n",
        "    for i in range(N): \n",
        "        print(i + N, \"\\t\", wPartner[i]) \n",
        "\n",
        "    print(\"Numero de veces ejecutado el algoritmo\")\n",
        "    return count"
      ],
      "execution_count": null,
      "outputs": []
    },
    {
      "cell_type": "markdown",
      "metadata": {
        "id": "Br0ZAAkaQqLk"
      },
      "source": [
        "Best and worst cases for N=4"
      ]
    },
    {
      "cell_type": "code",
      "metadata": {
        "id": "Wn8QHLm1ZlEY",
        "colab": {
          "base_uri": "https://localhost:8080/"
        },
        "outputId": "9a3fcd03-ea49-4c76-b3b6-9d93c9ccf640"
      },
      "source": [
        "N2=4\n",
        "prefer2 = []\n",
        "\n",
        "# Fill woman list\n",
        "preferW = [i+N2 for i in range(N2)]\n",
        "prefer2.append(preferW[:])\n",
        "for i in range(N2-1):\n",
        "  listaux = preferW[1:N2-1]\n",
        "  elemaux = preferW[0]\n",
        "  preferW[N2-2] = elemaux\n",
        "  preferW[0:N2-2] = listaux[:]\n",
        "  prefer2.append(preferW[:])\n",
        "\n",
        "# Fill man list\n",
        "preferM = [i for i in range(N2)]\n",
        "for i in range(N2):\n",
        "  ax = preferM.pop(0)\n",
        "  preferM.append(ax)\n",
        "  prefer2.append(preferM[:])\n",
        "\n",
        "print(stableMarriage(prefer2,N2))"
      ],
      "execution_count": null,
      "outputs": [
        {
          "output_type": "stream",
          "text": [
            "Woman   Man\n",
            "4 \t 1\n",
            "5 \t 2\n",
            "6 \t 3\n",
            "7 \t 0\n",
            "Numero de veces ejecutado el algoritmo\n",
            "13\n"
          ],
          "name": "stdout"
        }
      ]
    },
    {
      "cell_type": "code",
      "metadata": {
        "colab": {
          "base_uri": "https://localhost:8080/"
        },
        "id": "wnILUx4uQ3Eq",
        "outputId": "2d9005e1-aca8-434d-fdb3-9cac06fbd942"
      },
      "source": [
        "preferM = []\n",
        "preferW = []\n",
        "prefer2 = []\n",
        "\n",
        "N2=4\n",
        "\n",
        "# Fill man list\n",
        "preferM = [i+N2 for i in range(N2)]\n",
        "for i in range(N2):\n",
        "  ax = preferM.pop(0)\n",
        "  preferM.append(ax)\n",
        "  prefer2.append(preferM[:])\n",
        "\n",
        "# Fill womman list\n",
        "preferW = [i for i in range(N2)]\n",
        "for i in range(N2):\n",
        "  ax = preferW.pop(0)\n",
        "  preferW.append(ax)\n",
        "  prefer2.append(preferW[:])\n",
        "\n",
        "print(stableMarriage(prefer2,N2))"
      ],
      "execution_count": null,
      "outputs": [
        {
          "output_type": "stream",
          "text": [
            "Woman   Man\n",
            "4 \t 3\n",
            "5 \t 0\n",
            "6 \t 1\n",
            "7 \t 2\n",
            "Numero de veces ejecutado el algoritmo\n",
            "4\n"
          ],
          "name": "stdout"
        }
      ]
    },
    {
      "cell_type": "markdown",
      "metadata": {
        "id": "iWl5dK0JQ9Fx"
      },
      "source": [
        "Best and worst cases for N=40"
      ]
    },
    {
      "cell_type": "code",
      "metadata": {
        "colab": {
          "base_uri": "https://localhost:8080/"
        },
        "id": "YK00dc9LQmuU",
        "outputId": "cd76f34a-0362-42a3-d990-87c93a3dafda"
      },
      "source": [
        "N2=40\n",
        "prefer2 = []\n",
        "\n",
        "# Fill woman list\n",
        "preferW = [i+N2 for i in range(N2)]\n",
        "prefer2.append(preferW[:])\n",
        "for i in range(N2-1):\n",
        "  listaux = preferW[1:N2-1]\n",
        "  elemaux = preferW[0]\n",
        "  preferW[N2-2] = elemaux\n",
        "  preferW[0:N2-2] = listaux[:]\n",
        "  prefer2.append(preferW[:])\n",
        "\n",
        "# Fill man list\n",
        "preferM = [i for i in range(N2)]\n",
        "for i in range(N2):\n",
        "  ax = preferM.pop(0)\n",
        "  preferM.append(ax)\n",
        "  prefer2.append(preferM[:])\n",
        "\n",
        "print(stableMarriage(prefer2,N2))"
      ],
      "execution_count": null,
      "outputs": [
        {
          "output_type": "stream",
          "text": [
            "Woman   Man\n",
            "40 \t 1\n",
            "41 \t 2\n",
            "42 \t 3\n",
            "43 \t 4\n",
            "44 \t 5\n",
            "45 \t 6\n",
            "46 \t 7\n",
            "47 \t 8\n",
            "48 \t 9\n",
            "49 \t 10\n",
            "50 \t 11\n",
            "51 \t 12\n",
            "52 \t 13\n",
            "53 \t 14\n",
            "54 \t 15\n",
            "55 \t 16\n",
            "56 \t 17\n",
            "57 \t 18\n",
            "58 \t 19\n",
            "59 \t 20\n",
            "60 \t 21\n",
            "61 \t 22\n",
            "62 \t 23\n",
            "63 \t 24\n",
            "64 \t 25\n",
            "65 \t 26\n",
            "66 \t 27\n",
            "67 \t 28\n",
            "68 \t 29\n",
            "69 \t 30\n",
            "70 \t 31\n",
            "71 \t 32\n",
            "72 \t 33\n",
            "73 \t 34\n",
            "74 \t 35\n",
            "75 \t 36\n",
            "76 \t 37\n",
            "77 \t 38\n",
            "78 \t 39\n",
            "79 \t 0\n",
            "Numero de veces ejecutado el algoritmo\n",
            "1561\n"
          ],
          "name": "stdout"
        }
      ]
    },
    {
      "cell_type": "code",
      "metadata": {
        "id": "MO_rqDswfDaR",
        "colab": {
          "base_uri": "https://localhost:8080/"
        },
        "outputId": "f390efb5-33ed-45de-b6b1-cfbcce84e296"
      },
      "source": [
        "preferM = []\n",
        "preferW = []\n",
        "prefer2 = []\n",
        "\n",
        "N2=40\n",
        "\n",
        "# Fill man list\n",
        "preferM = [i+N2 for i in range(N2)]\n",
        "for i in range(N2):\n",
        "  ax = preferM.pop(0)\n",
        "  preferM.append(ax)\n",
        "  prefer2.append(preferM[:])\n",
        "\n",
        "# Fill womman list\n",
        "preferW = [i for i in range(N2)]\n",
        "for i in range(N2):\n",
        "  ax = preferW.pop(0)\n",
        "  preferW.append(ax)\n",
        "  prefer2.append(preferW[:])\n",
        "\n",
        "print(stableMarriage(prefer2,N2))"
      ],
      "execution_count": null,
      "outputs": [
        {
          "output_type": "stream",
          "text": [
            "Woman   Man\n",
            "40 \t 39\n",
            "41 \t 0\n",
            "42 \t 1\n",
            "43 \t 2\n",
            "44 \t 3\n",
            "45 \t 4\n",
            "46 \t 5\n",
            "47 \t 6\n",
            "48 \t 7\n",
            "49 \t 8\n",
            "50 \t 9\n",
            "51 \t 10\n",
            "52 \t 11\n",
            "53 \t 12\n",
            "54 \t 13\n",
            "55 \t 14\n",
            "56 \t 15\n",
            "57 \t 16\n",
            "58 \t 17\n",
            "59 \t 18\n",
            "60 \t 19\n",
            "61 \t 20\n",
            "62 \t 21\n",
            "63 \t 22\n",
            "64 \t 23\n",
            "65 \t 24\n",
            "66 \t 25\n",
            "67 \t 26\n",
            "68 \t 27\n",
            "69 \t 28\n",
            "70 \t 29\n",
            "71 \t 30\n",
            "72 \t 31\n",
            "73 \t 32\n",
            "74 \t 33\n",
            "75 \t 34\n",
            "76 \t 35\n",
            "77 \t 36\n",
            "78 \t 37\n",
            "79 \t 38\n",
            "Numero de veces ejecutado el algoritmo\n",
            "40\n"
          ],
          "name": "stdout"
        }
      ]
    },
    {
      "cell_type": "markdown",
      "metadata": {
        "id": "fE3LoOdtYZ0y"
      },
      "source": [
        "## Irving´s algorithm"
      ]
    },
    {
      "cell_type": "code",
      "metadata": {
        "id": "oKaFBs2dctl1"
      },
      "source": [
        "\n",
        "def getKey(lista, llave):\n",
        "    for key, val in lista.items():\n",
        "        if val == llave:\n",
        "            return key\n",
        "    return 0\n",
        "\n",
        "def ciclo(tabla):\n",
        "    tablaI = tabla[0]\n",
        "    tablaD = tabla[1]\n",
        "    if len(tablaI) > len(set(tablaI)):\n",
        "        return True\n",
        "    else:\n",
        "        return False\n",
        "\n",
        "def noEstable(prefer):\n",
        "    for i in prefer:\n",
        "        if len(prefer[i]) == 0:\n",
        "            return True\n",
        "    return False\n",
        "\n",
        "def esEstable(prefer):\n",
        "  for i in prefer:\n",
        "    if len(prefer[i]) != 1:\n",
        "      return False\n",
        "  return True\n",
        "\n",
        "def quitarCiclo(prefer, tabla):\n",
        "  npreferences = prefer\n",
        "  for i in range(len(tabla[0])-1):\n",
        "    npreferences[tabla[1][i]].remove(tabla[0][i+1])\n",
        "    npreferences[tabla[0][i+1]].remove(tabla[1][i])\n",
        "  return npreferences\n",
        "\n",
        "def paso1(prefer):\n",
        "  espera = []\n",
        "  propuestas={}\n",
        "  npropuestas={}\n",
        "  pasos=0\n",
        "  for i in prefer:\n",
        "    espera.append(i)\n",
        "    propuestas[i] = None\n",
        "    npropuestas[i] = 0\n",
        "  npreferences = copy.deepcopy(prefer)\n",
        "  while not len(espera)==0:\n",
        "    i=espera[0]\n",
        "    npropuestas[i]+=1\n",
        "    pasos+=1\n",
        "    if npropuestas[i]> len(propuestas):\n",
        "      print(\"No existe parejas estables.\")\n",
        "      return (False,False)\n",
        "    for j in prefer[i]:\n",
        "      if propuestas[j]==None:\n",
        "        del espera[0]\n",
        "        propuestas[j]=i\n",
        "        break\n",
        "      elif propuestas[j] != i:\n",
        "        actual = prefer[j].index(i)\n",
        "        otro = prefer[j].index(propuestas[j])\n",
        "        if actual < otro:\n",
        "          del espera[0]\n",
        "          espera.insert(0, propuestas[j])\n",
        "          npreferences[propuestas[j]].remove(j)\n",
        "          npreferences[j].remove(propuestas[j])\n",
        "          propuestas[j] = i\n",
        "          break\n",
        "        else:\n",
        "          npreferences[i].remove(j)\n",
        "          npreferences[j].remove(i)\n",
        "    prefer = copy.deepcopy(npreferences)\n",
        "  return (propuestas,prefer,pasos)\n",
        "\n",
        "def paso2(propuestas,prefer,pasos):\n",
        "  npreferences=copy.deepcopy(prefer)\n",
        "  for k in prefer:\n",
        "    indexpropuestas=npreferences[k].index(propuestas[k])\n",
        "    npreferences[k]= npreferences[k][:indexpropuestas+1]\n",
        "    #pasos+=1\n",
        "    for j in prefer:\n",
        "      key= getKey(propuestas,k)\n",
        "      if j != k and j != propuestas[k] and j != key:\n",
        "        try:\n",
        "          npreferences[j].remove(k)\n",
        "        except ValueError:\n",
        "          pass\n",
        "  return (npreferences,pasos)\n",
        "\n",
        "\n",
        "def paso3(prefer,pasos):\n",
        "  si=True\n",
        "  while True:\n",
        "    tabla=([],[])\n",
        "    if noEstable(prefer):\n",
        "      print(\"No existe parejas estables.\")\n",
        "      return False\n",
        "    for i in prefer:\n",
        "      if len(prefer[i]) >= 2 and si == True:\n",
        "        match1 = i\n",
        "        tabla[0].append(match1)\n",
        "        match2 = prefer[i][1]\n",
        "        tabla[1].append(match2)\n",
        "        si=False\n",
        "        pasos+=1\n",
        "      elif si==False:\n",
        "        if (ciclo(tabla)):\n",
        "          prefer=quitarCiclo(prefer,tabla)\n",
        "          si = True\n",
        "          pasos+=1\n",
        "          break\n",
        "        match1 = prefer[match2][-1]\n",
        "        tabla[0].append(match1)\n",
        "        match2 = prefer[match1][1]\n",
        "        tabla[1].append(match2)\n",
        "        pasos+=1\n",
        "    if esEstable(prefer):\n",
        "      return (prefer,pasos)\n",
        "\n",
        "  return False\n",
        "def irving(prefer):\n",
        "  a=paso1(prefer)\n",
        "  propuestas=a[0]\n",
        "  if propuestas==False:\n",
        "    return False\n",
        "  prefer1=a[1]\n",
        "  pasos=a[2]\n",
        "  prefer2=paso2(propuestas,prefer1,pasos)[0]\n",
        "  pasos=paso2(propuestas,prefer1,pasos)[1]\n",
        "  if prefer2==False:\n",
        "    return False\n",
        "  prefer3=paso3(prefer2,pasos)\n",
        "  matches=prefer3[0]\n",
        "  pasos=prefer3[1]\n",
        "  for i in matches:\n",
        "    a=i\n",
        "    for j in matches[i]:\n",
        "      print(a,\" => \", j)\n",
        "  print(\"Numero de Veces del algoritmo \",pasos)"
      ],
      "execution_count": null,
      "outputs": []
    },
    {
      "cell_type": "markdown",
      "metadata": {
        "id": "rK6YWel3ZBBL"
      },
      "source": [
        "Worst Case"
      ]
    },
    {
      "cell_type": "code",
      "metadata": {
        "colab": {
          "base_uri": "https://localhost:8080/"
        },
        "id": "IHdpIlZgY-pO",
        "outputId": "4c65be42-c5cd-4038-cce5-39d6de5c7ec5"
      },
      "source": [
        "# Para N=4\n",
        "def worst(n):\n",
        "  prefer={}\n",
        "  for k in range(n):\n",
        "      ni=n\n",
        "      list=[]\n",
        "      for i in range(k+1,n):\n",
        "        list.append(i)\n",
        "      for j in range (k):\n",
        "        list.append(j)\n",
        "      prefer[k]=list\n",
        "  return prefer\n",
        "a=worst(4)\n",
        "irving(a)"
      ],
      "execution_count": null,
      "outputs": [
        {
          "output_type": "stream",
          "text": [
            "0  =>  3\n",
            "1  =>  2\n",
            "2  =>  1\n",
            "3  =>  0\n",
            "Numero de Veces del algoritmo  8\n"
          ],
          "name": "stdout"
        }
      ]
    },
    {
      "cell_type": "code",
      "metadata": {
        "colab": {
          "base_uri": "https://localhost:8080/"
        },
        "id": "d8FsLtXpYu5l",
        "outputId": "5daa793b-671a-4d69-82dc-0a35967d99bd"
      },
      "source": [
        "# for N=40\n",
        "a = worst(40)\n",
        "irving(a)"
      ],
      "execution_count": null,
      "outputs": [
        {
          "output_type": "stream",
          "text": [
            "0  =>  39\n",
            "1  =>  2\n",
            "2  =>  1\n",
            "3  =>  4\n",
            "4  =>  3\n",
            "5  =>  6\n",
            "6  =>  5\n",
            "7  =>  8\n",
            "8  =>  7\n",
            "9  =>  10\n",
            "10  =>  9\n",
            "11  =>  12\n",
            "12  =>  11\n",
            "13  =>  14\n",
            "14  =>  13\n",
            "15  =>  16\n",
            "16  =>  15\n",
            "17  =>  18\n",
            "18  =>  17\n",
            "19  =>  20\n",
            "20  =>  19\n",
            "21  =>  22\n",
            "22  =>  21\n",
            "23  =>  24\n",
            "24  =>  23\n",
            "25  =>  26\n",
            "26  =>  25\n",
            "27  =>  28\n",
            "28  =>  27\n",
            "29  =>  30\n",
            "30  =>  29\n",
            "31  =>  32\n",
            "32  =>  31\n",
            "33  =>  34\n",
            "34  =>  33\n",
            "35  =>  36\n",
            "36  =>  35\n",
            "37  =>  38\n",
            "38  =>  37\n",
            "39  =>  0\n",
            "Numero de Veces del algoritmo  62\n"
          ],
          "name": "stdout"
        }
      ]
    },
    {
      "cell_type": "markdown",
      "metadata": {
        "id": "1Cxaex6hZE_o"
      },
      "source": [
        "Best Case"
      ]
    },
    {
      "cell_type": "code",
      "metadata": {
        "colab": {
          "base_uri": "https://localhost:8080/"
        },
        "id": "pZyj4dRoZkQg",
        "outputId": "90c907c8-6c80-44d5-de50-99ec605a1398"
      },
      "source": [
        "# for N = 4\n",
        "def best(n):\n",
        "  prefer={}\n",
        "  for k in range(n):\n",
        "      list=[]\n",
        "      list.append(n-k-1)\n",
        "      while not len(list)==n-1:\n",
        "        r=random.randint(0,n-1)\n",
        "        if r not in list and r!=k:\n",
        "          list.append(r)\n",
        "      prefer[k]=list\n",
        "  return prefer\n",
        "irving(best(4))"
      ],
      "execution_count": null,
      "outputs": [
        {
          "output_type": "stream",
          "text": [
            "0  =>  3\n",
            "1  =>  2\n",
            "2  =>  1\n",
            "3  =>  0\n",
            "Numero de Veces del algoritmo  4\n"
          ],
          "name": "stdout"
        }
      ]
    },
    {
      "cell_type": "code",
      "metadata": {
        "colab": {
          "base_uri": "https://localhost:8080/"
        },
        "id": "AamoUg4PYiyx",
        "outputId": "8809cac8-ab57-4fe8-b891-5c3028d6b2a8"
      },
      "source": [
        "# for N = 40\n",
        "irving(best(40))"
      ],
      "execution_count": null,
      "outputs": [
        {
          "output_type": "stream",
          "text": [
            "0  =>  39\n",
            "1  =>  38\n",
            "2  =>  37\n",
            "3  =>  36\n",
            "4  =>  35\n",
            "5  =>  34\n",
            "6  =>  33\n",
            "7  =>  32\n",
            "8  =>  31\n",
            "9  =>  30\n",
            "10  =>  29\n",
            "11  =>  28\n",
            "12  =>  27\n",
            "13  =>  26\n",
            "14  =>  25\n",
            "15  =>  24\n",
            "16  =>  23\n",
            "17  =>  22\n",
            "18  =>  21\n",
            "19  =>  20\n",
            "20  =>  19\n",
            "21  =>  18\n",
            "22  =>  17\n",
            "23  =>  16\n",
            "24  =>  15\n",
            "25  =>  14\n",
            "26  =>  13\n",
            "27  =>  12\n",
            "28  =>  11\n",
            "29  =>  10\n",
            "30  =>  9\n",
            "31  =>  8\n",
            "32  =>  7\n",
            "33  =>  6\n",
            "34  =>  5\n",
            "35  =>  4\n",
            "36  =>  3\n",
            "37  =>  2\n",
            "38  =>  1\n",
            "39  =>  0\n",
            "Numero de Veces del algoritmo  40\n"
          ],
          "name": "stdout"
        }
      ]
    },
    {
      "cell_type": "markdown",
      "metadata": {
        "id": "2ZWAdYlQSlT_"
      },
      "source": [
        "Random preference list"
      ]
    },
    {
      "cell_type": "code",
      "metadata": {
        "id": "J9tRakXyqR4Y"
      },
      "source": [
        "import random\n",
        "import copy\n",
        "def preferMarriages(n):\n",
        "  prefer=[]\n",
        "  nn=2*n\n",
        "  for j in range(n):\n",
        "    list=[]\n",
        "    while not len(list)==n:\n",
        "      r=random.randint(0,n-1)\n",
        "      if r not in list: list.append(r)\n",
        "    prefer.insert(j,list)\n",
        "  for k in range(n):\n",
        "    list=[]\n",
        "    while not len(list)==n:\n",
        "      r=random.randint(n+1,nn)\n",
        "      if r not in list: list.append(r)\n",
        "    prefer.insert(n+k,list)\n",
        "  return prefer"
      ],
      "execution_count": null,
      "outputs": []
    },
    {
      "cell_type": "code",
      "metadata": {
        "id": "Ji4ToP2bUq5h"
      },
      "source": [
        "# This function returns true if  \n",
        "# woman 'w' prefers man 'm1' over man 'm' \n",
        "def wPrefersM1OverM(prefer, w, m, m1, n): \n",
        "      \n",
        "    N = n  \n",
        "    # Check if w prefers m over her  \n",
        "    # current engagment m1 \n",
        "    for i in range(N): \n",
        "          \n",
        "        # If m1 comes before m in lisr of w,  \n",
        "        # then w prefers her current engagement, \n",
        "        # don't do anything \n",
        "        if (prefer[w][i] == m1): \n",
        "            return True\n",
        "  \n",
        "        # If m cmes before m1 in w's list,  \n",
        "        # then free her current engagement  \n",
        "        # and engage her with m \n",
        "        if (prefer[w][i] == m): \n",
        "            return False\n",
        "            \n",
        "# Prints stable matching for N boys and N girls.  \n",
        "# Boys are numbered as 0 to N-1.  \n",
        "# Girls are numbereed as N to 2N-1. \n",
        "def stableMarriage(prefer, n): \n",
        "      \n",
        "    # Stores partner of women. This is our output  \n",
        "    # array that stores paing information.  \n",
        "    # The value of wPartner[i] indicates the partner  \n",
        "    # assigned to woman N+i. Note that the woman numbers  \n",
        "    # between N and 2*N-1. The value -1 indicates  \n",
        "    # that (N+i)'th woman is free \n",
        "    N = n\n",
        "    wPartner = [-1 for i in range(N)] \n",
        "  \n",
        "    # An array to store availability of men.  \n",
        "    # If mFree[i] is false, then man 'i' is free, \n",
        "    # otherwise engaged. \n",
        "    mFree = [False for i in range(N)] \n",
        "  \n",
        "    freeCount = N \n",
        "    count = 0\n",
        "    # While there are free men \n",
        "    while (freeCount > 0): \n",
        "          \n",
        "        count += 1  \n",
        "        # Pick the first free man (we could pick any) \n",
        "        m = 0\n",
        "        while (m < N): \n",
        "            if (mFree[m] == False): \n",
        "                break\n",
        "            m += 1\n",
        "  \n",
        "        # One by one go to all women according to  \n",
        "        # m's preferences. Here m is the picked free man \n",
        "        i = 0\n",
        "        while i < N and mFree[m] == False: \n",
        "            w = prefer[m][i] \n",
        "  \n",
        "            # The woman of preference is free,  \n",
        "            # w and m become partners (Note that  \n",
        "            # the partnership maybe changed later).  \n",
        "            # So we can say they are engaged not married \n",
        "            if (wPartner[w - N] == -1): \n",
        "                wPartner[w - N] = m \n",
        "                mFree[m] = True\n",
        "                freeCount -= 1\n",
        "  \n",
        "            else:  \n",
        "                  \n",
        "                # If w is not free \n",
        "                # Find current engagement of w \n",
        "                m1 = wPartner[w - N] \n",
        "  \n",
        "                # If w prefers m over her current engagement m1, \n",
        "                # then break the engagement between w and m1 and \n",
        "                # engage m with w. \n",
        "                if (wPrefersM1OverM(prefer, w, m, m1, n) == False): \n",
        "                    wPartner[w - N] = m \n",
        "                    mFree[m] = True\n",
        "                    mFree[m1] = False\n",
        "            i += 1\n",
        "  \n",
        "            # End of Else \n",
        "        # End of the for loop that goes  \n",
        "        # to all women in m's list \n",
        "    # End of main while loop \n",
        "       \n",
        "    return count"
      ],
      "execution_count": null,
      "outputs": []
    },
    {
      "cell_type": "code",
      "metadata": {
        "colab": {
          "base_uri": "https://localhost:8080/"
        },
        "id": "9UsQYzyjTEQg",
        "outputId": "0efc59ad-345b-4822-d9b7-c74aa7a6b34c"
      },
      "source": [
        "import matplotlib.pyplot as plt\n",
        "import numpy as np\n",
        "\n",
        "def Average(lst): \n",
        "    return sum(lst) / len(lst) \n",
        "\n",
        "# 100 times for N = 4\n",
        "lot = []\n",
        "for i in range(100):\n",
        "  lot.append(stableMarriage(preferMarriages(4),4))\n",
        "\n",
        "aux = lot\n",
        "res = []\n",
        "Ma = 0\n",
        "Mi = 100\n",
        "#Minimun, Maximun and Average\n",
        "for i in aux:\n",
        "  x = aux.pop(0)\n",
        "  if (x > Ma):\n",
        "    Ma = x\n",
        "  if (x < Mi):\n",
        "    Mi = x\n",
        "print(\"Maximo: \", Ma, \" Minimo: \", Mi, \" Average: \", Average(lot))"
      ],
      "execution_count": null,
      "outputs": [
        {
          "output_type": "stream",
          "text": [
            "Maximo:  8  Minimo:  4  Average:  5.2\n"
          ],
          "name": "stdout"
        }
      ]
    },
    {
      "cell_type": "code",
      "metadata": {
        "colab": {
          "base_uri": "https://localhost:8080/",
          "height": 312
        },
        "id": "H3NS4krAUx96",
        "outputId": "0e2688ee-01e6-4d98-fa5e-aef20b2bc54a"
      },
      "source": [
        "plt.plot(lot)   # Dibuja el gráfico\n",
        "plt.title(\"Título\")   # Establece el título del gráfico\n",
        "plt.xlabel(\"Total\")   # Establece el título del eje x\n",
        "plt.ylabel(\"Times\")   # Establece el título del eje y"
      ],
      "execution_count": null,
      "outputs": [
        {
          "output_type": "execute_result",
          "data": {
            "text/plain": [
              "Text(0, 0.5, 'Times')"
            ]
          },
          "metadata": {
            "tags": []
          },
          "execution_count": 22
        },
        {
          "output_type": "display_data",
          "data": {
            "image/png": "[encoded data removed]",
            "text/plain": [
              "<Figure size 432x288 with 1 Axes>"
            ]
          },
          "metadata": {
            "tags": [],
            "needs_background": "light"
          }
        }
      ]
    },
    {
      "cell_type": "code",
      "metadata": {
        "colab": {
          "base_uri": "https://localhost:8080/"
        },
        "id": "gzb9mJy4XTft",
        "outputId": "2e5fcaa1-e36a-4e94-d325-cd4ac3682399"
      },
      "source": [
        "import matplotlib.pyplot as plt\n",
        "import numpy as np\n",
        "\n",
        "def Average(lst): \n",
        "    return sum(lst) / len(lst) \n",
        "\n",
        "# 100 times for N = 40\n",
        "lot = []\n",
        "for i in range(100):\n",
        "  lot.append(stableMarriage(preferMarriages(40),40))\n",
        "\n",
        "aux = lot\n",
        "res = []\n",
        "Ma = 0\n",
        "Mi = 100\n",
        "#Minimun, Maximun and Average\n",
        "for i in aux:\n",
        "  x = aux.pop(0)\n",
        "  if (x > Ma):\n",
        "    Ma = x\n",
        "  if (x < Mi):\n",
        "    Mi = x\n",
        "print(\"Maximo: \", Ma, \" Minimo: \", Mi, \" Average: \",lot.mean())"
      ],
      "execution_count": null,
      "outputs": [
        {
          "output_type": "stream",
          "text": [
            "Maximo:  96  Minimo:  56  Average:  80.7\n"
          ],
          "name": "stdout"
        }
      ]
    },
    {
      "cell_type": "code",
      "metadata": {
        "colab": {
          "base_uri": "https://localhost:8080/",
          "height": 312
        },
        "id": "mIoIERXeXZ9R",
        "outputId": "b23d36f4-24d3-4170-b0a7-da63ba8d13d4"
      },
      "source": [
        "plt.plot(lot)   # Dibuja el gráfico\n",
        "plt.title(\"Título\")   # Establece el título del gráfico\n",
        "plt.xlabel(\"Total\")   # Establece el título del eje x\n",
        "plt.ylabel(\"Times\")   # Establece el título del eje y"
      ],
      "execution_count": null,
      "outputs": [
        {
          "output_type": "execute_result",
          "data": {
            "text/plain": [
              "Text(0, 0.5, 'Times')"
            ]
          },
          "metadata": {
            "tags": []
          },
          "execution_count": 24
        },
        {
          "output_type": "display_data",
          "data": {
            "image/png": "[encoded data removed]",
            "text/plain": [
              "<Figure size 432x288 with 1 Axes>"
            ]
          },
          "metadata": {
            "tags": [],
            "needs_background": "light"
          }
        }
      ]
    }
  ]
}